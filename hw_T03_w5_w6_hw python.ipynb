{
 "cells": [
  {
   "cell_type": "markdown",
   "metadata": {},
   "source": [
    "1. Имеется список из 20 случайных чисел от 0 до 100. Напишите функцию, которая разбивает этот список на $n$ списков по $k$ элементов и включает все эти списки в новый список. Используйте $k$ в качестве параметра функции.\n",
    "\n",
    "2. Напишите функцию, вычисляющую факториал числа, передаваемого в качестве параметра.\n",
    "\n",
    "3. Написать функцию умножения, принимающую от одного до трех параметров. Функцию вызвать с приведенными ниже аргументами. Для случая a4 выбрать 3 первых и 3 последних значения.\n",
    "```\n",
    "a1 = (15, 10 ,5)\n",
    "a2 = (3, 1)\n",
    "a3 = [2, 35, 55]\n",
    "a4 = (5, 10 ,15, 20)\n",
    "```\n",
    "\n",
    "4. Напишите функцию, которая для заданного радиуса r вычисляет площадь круга и длину окружности. Функция возвращает кортеж из 2 значений.\n",
    "\n",
    "5. Реализовать функции для выполнения четырех арифметических операций, преобразующих целые числа в целое число. Создать словарь с функциями исоответствующими им символами операций. Для двух заранее заданных целых чисел (например, 25 и 4) выполнить выбранную пользователем арифметическую операцию.\n",
    "\n",
    "6. Написать калькулятор для строковых выражений вида '<число> <операция> <число>', где <число> - целое число, например 113, <арифметическая операция> - одна из операций `+,-,*,//,%,^`. Пример: `calc('13 - 5') -> 8`\n",
    "\n",
    "7. Написать функцию, которая преобразует целое число (от 0 до 999) из текстового представления на русском языке в число типа int. Пример: `to_int('тридцать три') -> 33`\n",
    "\n",
    "8. Написать функцию, которая преобразует целое число (от 0 до 999) из текстового представления на русском языке в число типа int. И сообщает об ошибках (выводит на экран описание типа ошибки и возвращает число -1). Пример: to_int('тридцать три') -> 33 Пример: to_int(\"сто сорок тридцать два сто\") -> -1 Вывод: тридцать - некорректное расположение в числе."
   ]
  },
  {
   "cell_type": "code",
   "execution_count": 1,
   "metadata": {},
   "outputs": [
    {
     "name": "stdout",
     "output_type": "stream",
     "text": [
      "[66, 38, 3, 12, 96, 99, 13, 4, 42, 24, 20, 36, 82, 26, 18, 99, 47, 66, 15, 78]\n"
     ]
    },
    {
     "data": {
      "text/plain": [
       "[[66, 38, 3, 12, 96],\n",
       " [99, 13, 4, 42, 24],\n",
       " [20, 36, 82, 26, 18],\n",
       " [99, 47, 66, 15, 78]]"
      ]
     },
     "execution_count": 1,
     "metadata": {},
     "output_type": "execute_result"
    }
   ],
   "source": [
    "#1. Имеется список из 20 случайных чисел от 0 до 100. \n",
    "#Напишите функцию, которая разбивает этот список на n списков по k элементов и включает все эти списки в новый список. \n",
    "#Используйте k в качестве параметра функции.\n",
    "\n",
    "import random\n",
    "\n",
    "def splitt(spisok,n, k):\n",
    "    list = []\n",
    "    if n*k<=20:\n",
    "         list = [spisok[j:k + j] for j in range(0,len(spisok),k)]        \n",
    "         return list\n",
    "    else:\n",
    "        return 'Так списко поделить не получится'\n",
    "    \n",
    "n,k = map(int, input().split(' '))\n",
    "\n",
    "spisok = [random.randint(0,100) for u in range(20)]\n",
    "\n",
    "print(spisok)\n",
    "\n",
    "splitt(spisok,n,k)"
   ]
  },
  {
   "cell_type": "code",
   "execution_count": 2,
   "metadata": {},
   "outputs": [
    {
     "name": "stdout",
     "output_type": "stream",
     "text": [
      "24\n"
     ]
    },
    {
     "ename": "RecursionError",
     "evalue": "maximum recursion depth exceeded",
     "output_type": "error",
     "traceback": [
      "\u001b[0;31m---------------------------------------------------------------------------\u001b[0m",
      "\u001b[0;31mRecursionError\u001b[0m                            Traceback (most recent call last)",
      "\u001b[1;32m/Users/vladislavkutnak/Desktop/Практики/3 Курс/Python/HW/hw_T03_w5_w6_hw python.ipynb Ячейка 3\u001b[0m line \u001b[0;36m1\n\u001b[1;32m     <a href='vscode-notebook-cell:/Users/vladislavkutnak/Desktop/%D0%9F%D1%80%D0%B0%D0%BA%D1%82%D0%B8%D0%BA%D0%B8/3%20%D0%9A%D1%83%D1%80%D1%81/Python/HW/hw_T03_w5_w6_hw%20python.ipynb#W2sZmlsZQ%3D%3D?line=10'>11</a>\u001b[0m \u001b[39mdef\u001b[39;00m \u001b[39mfactor\u001b[39m(n):\n\u001b[1;32m     <a href='vscode-notebook-cell:/Users/vladislavkutnak/Desktop/%D0%9F%D1%80%D0%B0%D0%BA%D1%82%D0%B8%D0%BA%D0%B8/3%20%D0%9A%D1%83%D1%80%D1%81/Python/HW/hw_T03_w5_w6_hw%20python.ipynb#W2sZmlsZQ%3D%3D?line=11'>12</a>\u001b[0m      \u001b[39mreturn\u001b[39;00m n \u001b[39m*\u001b[39m factor(n\u001b[39m-\u001b[39m\u001b[39m1\u001b[39m)\n\u001b[0;32m---> <a href='vscode-notebook-cell:/Users/vladislavkutnak/Desktop/%D0%9F%D1%80%D0%B0%D0%BA%D1%82%D0%B8%D0%BA%D0%B8/3%20%D0%9A%D1%83%D1%80%D1%81/Python/HW/hw_T03_w5_w6_hw%20python.ipynb#W2sZmlsZQ%3D%3D?line=13'>14</a>\u001b[0m \u001b[39mprint\u001b[39m(factor(\u001b[39mint\u001b[39;49m(\u001b[39minput\u001b[39;49m())))\n",
      "\u001b[1;32m/Users/vladislavkutnak/Desktop/Практики/3 Курс/Python/HW/hw_T03_w5_w6_hw python.ipynb Ячейка 3\u001b[0m line \u001b[0;36m1\n\u001b[1;32m     <a href='vscode-notebook-cell:/Users/vladislavkutnak/Desktop/%D0%9F%D1%80%D0%B0%D0%BA%D1%82%D0%B8%D0%BA%D0%B8/3%20%D0%9A%D1%83%D1%80%D1%81/Python/HW/hw_T03_w5_w6_hw%20python.ipynb#W2sZmlsZQ%3D%3D?line=10'>11</a>\u001b[0m \u001b[39mdef\u001b[39;00m \u001b[39mfactor\u001b[39m(n):\n\u001b[0;32m---> <a href='vscode-notebook-cell:/Users/vladislavkutnak/Desktop/%D0%9F%D1%80%D0%B0%D0%BA%D1%82%D0%B8%D0%BA%D0%B8/3%20%D0%9A%D1%83%D1%80%D1%81/Python/HW/hw_T03_w5_w6_hw%20python.ipynb#W2sZmlsZQ%3D%3D?line=11'>12</a>\u001b[0m      \u001b[39mreturn\u001b[39;00m n \u001b[39m*\u001b[39m factor(n\u001b[39m-\u001b[39;49m\u001b[39m1\u001b[39;49m)\n",
      "\u001b[1;32m/Users/vladislavkutnak/Desktop/Практики/3 Курс/Python/HW/hw_T03_w5_w6_hw python.ipynb Ячейка 3\u001b[0m line \u001b[0;36m1\n\u001b[1;32m     <a href='vscode-notebook-cell:/Users/vladislavkutnak/Desktop/%D0%9F%D1%80%D0%B0%D0%BA%D1%82%D0%B8%D0%BA%D0%B8/3%20%D0%9A%D1%83%D1%80%D1%81/Python/HW/hw_T03_w5_w6_hw%20python.ipynb#W2sZmlsZQ%3D%3D?line=10'>11</a>\u001b[0m \u001b[39mdef\u001b[39;00m \u001b[39mfactor\u001b[39m(n):\n\u001b[0;32m---> <a href='vscode-notebook-cell:/Users/vladislavkutnak/Desktop/%D0%9F%D1%80%D0%B0%D0%BA%D1%82%D0%B8%D0%BA%D0%B8/3%20%D0%9A%D1%83%D1%80%D1%81/Python/HW/hw_T03_w5_w6_hw%20python.ipynb#W2sZmlsZQ%3D%3D?line=11'>12</a>\u001b[0m      \u001b[39mreturn\u001b[39;00m n \u001b[39m*\u001b[39m factor(n\u001b[39m-\u001b[39;49m\u001b[39m1\u001b[39;49m)\n",
      "    \u001b[0;31m[... skipping similar frames: factor at line 12 (2971 times)]\u001b[0m\n",
      "\u001b[1;32m/Users/vladislavkutnak/Desktop/Практики/3 Курс/Python/HW/hw_T03_w5_w6_hw python.ipynb Ячейка 3\u001b[0m line \u001b[0;36m1\n\u001b[1;32m     <a href='vscode-notebook-cell:/Users/vladislavkutnak/Desktop/%D0%9F%D1%80%D0%B0%D0%BA%D1%82%D0%B8%D0%BA%D0%B8/3%20%D0%9A%D1%83%D1%80%D1%81/Python/HW/hw_T03_w5_w6_hw%20python.ipynb#W2sZmlsZQ%3D%3D?line=10'>11</a>\u001b[0m \u001b[39mdef\u001b[39;00m \u001b[39mfactor\u001b[39m(n):\n\u001b[0;32m---> <a href='vscode-notebook-cell:/Users/vladislavkutnak/Desktop/%D0%9F%D1%80%D0%B0%D0%BA%D1%82%D0%B8%D0%BA%D0%B8/3%20%D0%9A%D1%83%D1%80%D1%81/Python/HW/hw_T03_w5_w6_hw%20python.ipynb#W2sZmlsZQ%3D%3D?line=11'>12</a>\u001b[0m      \u001b[39mreturn\u001b[39;00m n \u001b[39m*\u001b[39m factor(n\u001b[39m-\u001b[39;49m\u001b[39m1\u001b[39;49m)\n",
      "\u001b[0;31mRecursionError\u001b[0m: maximum recursion depth exceeded"
     ]
    }
   ],
   "source": [
    "#2. Напишите функцию, вычисляющую факториал числа, передаваемого в качестве параметра.\n",
    "\n",
    "def fact(n):\n",
    "    a = 1\n",
    "    for i in range(1,n+1):\n",
    "          a *= i\n",
    "    return a\n",
    "          \n",
    "print(fact(int(input())))\n",
    "\n",
    "def factor(n):\n",
    "     return n * factor(n-1)\n",
    "\n",
    "print(factor(int(input())))\n",
    "\n"
   ]
  },
  {
   "cell_type": "code",
   "execution_count": 8,
   "metadata": {},
   "outputs": [
    {
     "name": "stdout",
     "output_type": "stream",
     "text": [
      "120\n"
     ]
    }
   ],
   "source": [
    "def factor(n):\n",
    "     if n - 1 == 0:\n",
    "          return 1\n",
    "     return n * factor(n-1) #1 2 3 4\n",
    "\n",
    "print(factor(int(input())))\n",
    "\n"
   ]
  },
  {
   "cell_type": "code",
   "execution_count": 10,
   "metadata": {},
   "outputs": [
    {
     "ename": "ModuleNotFoundError",
     "evalue": "No module named 'numpy'",
     "output_type": "error",
     "traceback": [
      "\u001b[0;31m---------------------------------------------------------------------------\u001b[0m",
      "\u001b[0;31mModuleNotFoundError\u001b[0m                       Traceback (most recent call last)",
      "\u001b[1;32m/Users/vladislavkutnak/Desktop/Практики/3 Курс/Python/HW/hw_T03_w5_w6_hw python.ipynb Ячейка 5\u001b[0m line \u001b[0;36m1\n\u001b[0;32m----> <a href='vscode-notebook-cell:/Users/vladislavkutnak/Desktop/%D0%9F%D1%80%D0%B0%D0%BA%D1%82%D0%B8%D0%BA%D0%B8/3%20%D0%9A%D1%83%D1%80%D1%81/Python/HW/hw_T03_w5_w6_hw%20python.ipynb#X22sZmlsZQ%3D%3D?line=0'>1</a>\u001b[0m \u001b[39mimport\u001b[39;00m \u001b[39mnumpy\u001b[39;00m \u001b[39mas\u001b[39;00m \u001b[39mnp\u001b[39;00m\n",
      "\u001b[0;31mModuleNotFoundError\u001b[0m: No module named 'numpy'"
     ]
    }
   ],
   "source": [
    "import numpy as np\n",
    "\n"
   ]
  },
  {
   "cell_type": "markdown",
   "metadata": {},
   "source": [
    "3. Написать функцию умножения, принимающую от одного до трех параметров. Функцию вызвать с приведенными ниже аргументами. Для случая a4 выбрать 3 первых и 3 последних значения.\n",
    "```\n",
    "a1 = (15, 10 ,5)\n",
    "a2 = (3, 1)\n",
    "a3 = [2, 35, 55]\n",
    "a4 = (5, 10 ,15, 20)\n",
    "```"
   ]
  },
  {
   "cell_type": "code",
   "execution_count": 22,
   "metadata": {},
   "outputs": [
    {
     "name": "stdout",
     "output_type": "stream",
     "text": [
      "750\n",
      "3\n",
      "3850\n",
      "3000\n"
     ]
    }
   ],
   "source": [
    "import numpy as np\n",
    "\n",
    "def multi(*a):\n",
    "    result=1\n",
    "    for i in a:\n",
    "        if len(i) >= 3:\n",
    "            result = np.prod(i[:3])\n",
    "            result = np.prod(i[-3:])\n",
    "        else:\n",
    "            result = np.prod(i)\n",
    "    return result\n",
    "\n",
    "\n",
    "a1 = (15, 10 ,5)\n",
    "a2 = (3, 1)\n",
    "a3 = (2, 35, 55)\n",
    "a4 = (5, 10 ,15, 20)\n",
    "\n",
    "print(multi(a1))\n",
    "print(multi(a2))\n",
    "print(multi(a3))\n",
    "print(multi(a4))\n",
    "\n",
    "\n"
   ]
  },
  {
   "cell_type": "markdown",
   "metadata": {},
   "source": [
    "4. Напишите функцию, которая для заданного радиуса r вычисляет площадь круга и длину окружности. Функция возвращает кортеж из 2 значений."
   ]
  },
  {
   "cell_type": "code",
   "execution_count": 25,
   "metadata": {},
   "outputs": [
    {
     "name": "stdout",
     "output_type": "stream",
     "text": [
      "(31.4159, 78.5398)\n"
     ]
    }
   ],
   "source": [
    "import math\n",
    "def d_a_s(r):\n",
    "    return round(2*math.pi*r,4),round(math.pi*(r*r),4)\n",
    "\n",
    "\n",
    "print(d_a_s(float(input())))"
   ]
  },
  {
   "cell_type": "markdown",
   "metadata": {},
   "source": [
    "5. Реализовать функции для выполнения четырех арифметических операций, преобразующих целые числа в целое число. Создать словарь с функциями исоответствующими им символами операций. Для двух заранее заданных целых чисел (например, 25 и 4) выполнить выбранную пользователем арифметическую операцию."
   ]
  },
  {
   "cell_type": "code",
   "execution_count": 27,
   "metadata": {},
   "outputs": [
    {
     "name": "stdout",
     "output_type": "stream",
     "text": [
      "29\n",
      "21\n",
      "100\n",
      "6\n"
     ]
    }
   ],
   "source": [
    "def operations(match, slovar):\n",
    "    if match in slovar:\n",
    "        return slovar[match]\n",
    "    return \"Невозможно выполнить\"\n",
    "\n",
    "slovar = {\n",
    "    \"multiplication\": lambda x, y: x*y,\n",
    "    \"plus\": lambda x,y: x+y,\n",
    "    \"minus\": lambda x,y: x-y,\n",
    "    \"division\": lambda x, y: x//y\n",
    "}\n",
    "\n",
    "plus = operations('plus', slovar)\n",
    "minus = operations('minus', slovar)\n",
    "umnogenie = operations('multiplication', slovar)\n",
    "delenie = operations('division', slovar)\n",
    "\n",
    "print(plus(25,4))\n",
    "print(minus(25,4))\n",
    "print(umnogenie(25,4))\n",
    "print(delenie(25,4))\n"
   ]
  },
  {
   "cell_type": "markdown",
   "metadata": {},
   "source": [
    "6. Написать калькулятор для строковых выражений вида '<число> <операция> <число>', где <число> - целое число, например 113, <арифметическая операция> - одна из операций `+,-,*,//,%,^`. Пример: `calc('13 - 5') -> 8`"
   ]
  },
  {
   "cell_type": "code",
   "execution_count": 30,
   "metadata": {},
   "outputs": [
    {
     "name": "stdout",
     "output_type": "stream",
     "text": [
      "Не надо делить на ноль !\n"
     ]
    }
   ],
   "source": [
    "def calc(s):\n",
    "    a = int(expression[0])\n",
    "    b = int(expression[2])\n",
    "    try:\n",
    "        if expression[1] == '+':\n",
    "            print(f\"{a} + {b} = {a+b}\")\n",
    "        elif expression[1] == '-':\n",
    "            print(f\"{a} - {b} = {a-b}\")\n",
    "        elif expression[1] == '*':\n",
    "            print(f\"{a} * {b} = {a*b}\")\n",
    "        elif expression[1] == '//':\n",
    "            print(f\"{a} // {b} = {a//b}\")\n",
    "        elif expression[1] == '%':\n",
    "            print(f\"{a} % {b} = {a%b}\")\n",
    "        elif expression[1] == '':\n",
    "            print(f\"{a} ^ {b} = {a**b}\")\n",
    "    except ArithmeticError:\n",
    "        print(\"Не надо делить на ноль !\")\n",
    "\n",
    "expression = input(\"Введите выражение\").split(\" \")\n",
    "\n",
    "calc(expression)\n"
   ]
  },
  {
   "cell_type": "markdown",
   "metadata": {},
   "source": [
    "7. Написать функцию, которая преобразует целое число (от 0 до 999) из текстового представления на русском языке в число типа int. Пример: `to_int('тридцать три') -> 33`"
   ]
  },
  {
   "cell_type": "code",
   "execution_count": 52,
   "metadata": {},
   "outputs": [
    {
     "name": "stdout",
     "output_type": "stream",
     "text": [
      "0\n"
     ]
    }
   ],
   "source": [
    "def f(s):\n",
    "    d = 0\n",
    "    for i in s:\n",
    "        d+=s1[i]\n",
    "    return d\n",
    "\n",
    "\n",
    "s1 = {'один':1,\n",
    "      'два':2,\n",
    "      'три':3,\n",
    "      'четыре':4,\n",
    "      'пять':5,\n",
    "      'шесть':6,\n",
    "      'семь':7,\n",
    "      'восемь':8,\n",
    "      'девять':0,\n",
    "      'ноль':0,\n",
    "      'двадцать':20,\n",
    "      'тридцать':30,\n",
    "      'сорок':40,\n",
    "      'пятьдесят':50,\n",
    "      'шестьдесят':60,\n",
    "      'семьдесят':70,\n",
    "      'восемьдесят':80,\n",
    "      'девяносто':90,\n",
    "      'сто':100,\n",
    "      'двести':200,\n",
    "      'триста':300,\n",
    "      'четыреста':400,\n",
    "      'пятьсот':500,\n",
    "      'шестьсот':600,\n",
    "      'семьсот':700,\n",
    "      'восемьсот':800,\n",
    "      'девятьсот':900,\n",
    "      'десять':10,\n",
    "      'одиннадцать':11,\n",
    "      'двенадцать':12,\n",
    "      'тринадцать':13,\n",
    "      'четырнадцать':14,\n",
    "      'пятнадцать':15,\n",
    "      'шестнадцать':16,\n",
    "      'семнадцать':17,\n",
    "      'восемнадцать':18,\n",
    "      'девятнадцать':19}\n",
    "\n",
    "s = input().split(' ')\n",
    "#тридцать три\n",
    "#двадцать два\n",
    "#одиннадцать\n",
    "#пятьсот восемьдесят шесть\n",
    "\n",
    "\n",
    "print(f(s))"
   ]
  },
  {
   "cell_type": "markdown",
   "metadata": {},
   "source": [
    "8. Написать функцию, которая преобразует целое число (от 0 до 999) из текстового представления на русском языке в число типа int. И сообщает об ошибках (выводит на экран описание типа ошибки и возвращает число -1). Пример: to_int('тридцать три') -> 33 Пример: to_int(\"сто сорок тридцать два сто\") -> -1 Вывод: тридцать - некорректное расположение в числе."
   ]
  },
  {
   "cell_type": "code",
   "execution_count": 7,
   "metadata": {},
   "outputs": [
    {
     "name": "stdout",
     "output_type": "stream",
     "text": [
      "Некорректное расположение в числе\n"
     ]
    }
   ],
   "source": [
    "def f(s):\n",
    "    d = 0\n",
    "    razryad_Edin = 0\n",
    "    razryad_Desyt = 0\n",
    "    razryad_Sotny = 0\n",
    "    razryad_Tcat = 0\n",
    "\n",
    "    for i in s:\n",
    "        #для единиц\n",
    "        if i in razryad_edin:\n",
    "            razryad_Edin+=1\n",
    "            d+=razryad_edin[i]\n",
    "        #для десятков\n",
    "        if i in razryad_desyt:\n",
    "            razryad_Desyt+=1\n",
    "            d+=razryad_desyt[i]\n",
    "        #для сотен\n",
    "        if i in razryad_sotny:\n",
    "            razryad_Sotny+=1\n",
    "            d+=razryad_sotny[i]\n",
    "        #для 10-219\n",
    "        if i in razryad_tcat:\n",
    "            razryad_Tcat+=1\n",
    "            d+=razryad_tcat[i]\n",
    "\n",
    "    if razryad_Edin >= 2 or razryad_Desyt >= 2 or razryad_Sotny >=2 or razryad_Tcat >= 2:\n",
    "        return 'Некорректное расположение в числе'\n",
    "    else:\n",
    "        return d\n",
    "\n",
    "\n",
    "\n",
    "razryad_edin = {'один':1,\n",
    "      'два':2,\n",
    "      'три':3,\n",
    "      'четыре':4,\n",
    "      'пять':5,\n",
    "      'шесть':6,\n",
    "      'семь':7,\n",
    "      'восемь':8,\n",
    "      'девять':0,\n",
    "      'ноль':0}\n",
    "\n",
    "razryad_desyt = {'двадцать':20,\n",
    "      'тридцать':30,\n",
    "      'сорок':40,\n",
    "      'пятьдесят':50,\n",
    "      'шестьдесят':60,\n",
    "      'семьдесят':70,\n",
    "      'восемьдесят':80,\n",
    "      'девяносто':90}\n",
    "      \n",
    "razryad_sotny = {'сто':100,\n",
    "      'двести':200,\n",
    "      'триста':300,\n",
    "      'четыреста':400,\n",
    "      'пятьсот':500,\n",
    "      'шестьсот':600,\n",
    "      'семьсот':700,\n",
    "      'восемьсот':800,\n",
    "      'девятьсот':900}\n",
    "      \n",
    "razryad_tcat = {'десять':10,\n",
    "      'одиннадцать':11,\n",
    "      'двенадцать':12,\n",
    "      'тринадцать':13,\n",
    "      'четырнадцать':14,\n",
    "      'пятнадцать':15,\n",
    "      'шестнадцать':16,\n",
    "      'семнадцать':17,\n",
    "      'восемнадцать':18,\n",
    "      'девятнадцать':19}\n",
    "      \n",
    "\n",
    "\n",
    "s = input().split(' ')\n",
    "#тридцать три\n",
    "#двадцать два\n",
    "#одиннадцать\n",
    "#пятьсот восемьдесят шесть\n",
    "#сто сорок тридцать два сто\n",
    "\n",
    "\n",
    "print(f(s))"
   ]
  }
 ],
 "metadata": {
  "kernelspec": {
   "display_name": "Python 3",
   "language": "python",
   "name": "python3"
  },
  "language_info": {
   "codemirror_mode": {
    "name": "ipython",
    "version": 3
   },
   "file_extension": ".py",
   "mimetype": "text/x-python",
   "name": "python",
   "nbconvert_exporter": "python",
   "pygments_lexer": "ipython3",
   "version": "3.11.5"
  },
  "orig_nbformat": 4
 },
 "nbformat": 4,
 "nbformat_minor": 2
}
