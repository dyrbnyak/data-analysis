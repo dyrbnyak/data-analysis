{
 "cells": [
  {
   "cell_type": "code",
   "execution_count": 3,
   "metadata": {},
   "outputs": [
    {
     "name": "stdout",
     "output_type": "stream",
     "text": [
      "Вы ввели неправильное число !\n"
     ]
    }
   ],
   "source": [
    "#1.Определить время года по номеру месяца.\n",
    "\n",
    "n = int(input('Введите номер месяца'))\n",
    "\n",
    "if n >= 1 and n<=2:\n",
    "    print('Winter')\n",
    "elif n >= 3 and n<=5:\n",
    "    print('Spring')\n",
    "elif n >= 6 and n<=8:\n",
    "    print('Summer')\n",
    "elif n >= 9 and n<=11:\n",
    "    print('Fall')\n",
    "elif n == 12:\n",
    "    print('Winter')\n",
    "else:\n",
    "    print('Вы ввели неправильное число !')\n",
    "\n",
    "\n",
    "\n"
   ]
  },
  {
   "cell_type": "code",
   "execution_count": 5,
   "metadata": {},
   "outputs": [
    {
     "name": "stdout",
     "output_type": "stream",
     "text": [
      "max - 99, min - -2\n"
     ]
    }
   ],
   "source": [
    "#2. Определить минимальное значение среди чисел a,b,c,d \n",
    "#(не использовать стандартные функции max и min).\n",
    "\n",
    "a, b, c, d = input(\"Введите a\"), input(\"Введите b\"), input(\"Введите c\"), input(\"Введите d\")\n",
    "\n",
    "max = None\n",
    "min = None\n",
    "\n",
    "if a > b and a > c and a > d:\n",
    "    max = a\n",
    "elif b > a and b > c and b > d:\n",
    "    max = b\n",
    "elif c > a and c > b and c > d:\n",
    "    max = c\n",
    "else:\n",
    "    max = d\n",
    "\n",
    "if a < b and a < c and a < d:\n",
    "    min = a\n",
    "elif b < a and b < c and b < d:\n",
    "    min = b\n",
    "elif c < a and c < b and c < d:\n",
    "    min = c\n",
    "else:\n",
    "    min = d\n",
    "\n",
    "print(f\"max: {max}, min: {min}\")"
   ]
  },
  {
   "cell_type": "code",
   "execution_count": 9,
   "metadata": {},
   "outputs": [
    {
     "name": "stdout",
     "output_type": "stream",
     "text": [
      "3\n"
     ]
    }
   ],
   "source": [
    "\n",
    "#3.Напишите программу, которая переводит оценку из 100-балльной системы в пятибалльную по правилам, принятым в университете\n",
    "\n",
    "grade = int(input('Введите оценку в 100-балльной системе'))\n",
    "\n",
    "if grade>=1 and grade<=20:\n",
    "    print(1)\n",
    "elif grade>=21 and grade<=40:\n",
    "    print(2)\n",
    "elif grade>=41 and grade<=65:\n",
    "    print(3)\n",
    "elif grade>=66 and grade<=85:\n",
    "    print(4)\n",
    "elif grade>=86 and grade<=99:\n",
    "    print(5)\n",
    "elif grade == 100:\n",
    "    print('5+')\n",
    "else:\n",
    "    print('Не выдумывайте !')\n"
   ]
  },
  {
   "cell_type": "code",
   "execution_count": 11,
   "metadata": {},
   "outputs": [
    {
     "name": "stdout",
     "output_type": "stream",
     "text": [
      "Значение F = 1\n"
     ]
    }
   ],
   "source": [
    "#4. Вычислить значение F:F=1, если цифра 7 входит в запись заданного трехзначного числа, и 0 – в противном случае\n",
    "\n",
    "n = int(input('Введите трехзначное число'))\n",
    "\n",
    "F = -1\n",
    "if '7' in str(n):\n",
    "    print(\"Значение F = \" + '1')\n",
    "else:\n",
    "    print(\"Значение F = \" + '0')\n"
   ]
  },
  {
   "cell_type": "code",
   "execution_count": 14,
   "metadata": {},
   "outputs": [
    {
     "name": "stdout",
     "output_type": "stream",
     "text": [
      "Точки не пересекаются\n"
     ]
    }
   ],
   "source": [
    "#5. Даны два отрезка [a;b) и [c;d). Найдите их пересечение. Если отрезки не пересекаются, то выдайте сообщение\n",
    "\n",
    "def LineEquation(a,b):\n",
    "    global A\n",
    "    global B\n",
    "    global C\n",
    "\n",
    "    A = b[1]-a[1]\n",
    "    B = a[0]-b[0]\n",
    "    C = a[0]*(b[1]-a[1])+a[1]*(b[0]-a[0])\n",
    "\n",
    "#здесь происходит векторное произведение\n",
    "def vectro_mult(ax,ay,bx,by):\n",
    "    return ax*by-bx*ay\n",
    "\n",
    "#здесь считается, пересекаются ли отрезки, делается это при помощи векторных произведений\n",
    "def AreCrossing(a,b,c,d):\n",
    "    v1 = vectro_mult(d[0]-c[0],d[1]-c[1],a[0]-c[0],a[1]-c[1])\n",
    "    v2 = vectro_mult(d[0]-c[0],d[1]-c[1],b[0]-c[0],b[1]-c[1])\n",
    "    v3 = vectro_mult(b[0]-a[0],b[1]-a[1],c[0]-a[0],c[1]-a[1])\n",
    "    v4 = vectro_mult(b[0]-a[0],b[1]-a[1],d[0]-a[0],d[1]-a[1])\n",
    "    \n",
    "    if (v1*v2)<0 and (v3*v4)<0:\n",
    "        return True\n",
    "    else:\n",
    "        return False\n",
    "\n",
    "\n",
    "a=[float(input('Введите x точки A')),float(input('Введите y точки A'))]\n",
    "b=[float(input('Введите x точки B')),float(input('Введите y точки B'))]\n",
    "c=[float(input('Введите x точки C')),float(input('Введите y точки C'))]\n",
    "d=[float(input('Введите x точки D')),float(input('Введите y точки D'))]\n",
    "\n",
    "if AreCrossing(a,b,c,d) == True:\n",
    "    #коэфиценнт ураванения прямой для отрезка AB Ax+By+C=0\n",
    "    LineEquation(a,b)\n",
    "\n",
    "    a1 = A\n",
    "    b1 = B\n",
    "    c1 = C\n",
    "\n",
    "\n",
    "    #коэфиценнт ураванения прямой для отрезка CD Ax+By+C=0\n",
    "    LineEquation(c,d)\n",
    "\n",
    "    a2 = A\n",
    "    b2 = B\n",
    "    c2 = C\n",
    "\n",
    "    #поиск точки пересечения\n",
    "    d = a1*b2-b1*a2\n",
    "    dx = -c1*b2+b1*c2\n",
    "    dy = -a1*c2+c1*a2\n",
    "\n",
    "    #вывод\n",
    "    print(f\"Точка пересечения - ({dx/d},{dy/d})\")\n",
    "else:\n",
    "    print(\"Точки не пересекаются !\")\n"
   ]
  },
  {
   "cell_type": "code",
   "execution_count": null,
   "metadata": {},
   "outputs": [],
   "source": [
    "#6. По номеру года определите, является ли данный год високосным. \n",
    "#(год является високосным, если его номер кратен 4, но не кратен 100, а также если он кратен 400).\n",
    "\n",
    "y=int(input())\n",
    "\n",
    "if y%4==0 and y%100!=0 or y%400==0:\n",
    "    print('Високосный')\n",
    "else:\n",
    "    print('Обычный')"
   ]
  },
  {
   "cell_type": "code",
   "execution_count": 26,
   "metadata": {},
   "outputs": [
    {
     "name": "stdout",
     "output_type": "stream",
     "text": [
      "Треугольник прямоугольный !\n"
     ]
    }
   ],
   "source": [
    "#7. Для отрезков длины a, b, c определить, \n",
    "#можно ли из них составить треугольник и является ли этот треугольник прямоугольным\n",
    "\n",
    "a, b, c = map(float, input('Введите стороны треугольника').split())\n",
    "\n",
    "\n",
    "if (b*b)+(c*c) == (a*a):\n",
    "    print(\"Треугольник прямоугольный !\")\n",
    "elif (a*a)+(c*c) == (b*b):\n",
    "    print(\"Треугольник прямоугольный !\")\n",
    "elif (a*a)+(b*b) == (c*c):\n",
    "    print(\"Треугольник прямоугольный !\")\n",
    "else:\n",
    "    print('Треугольник НЕ прямоугольный !')\n",
    "\n"
   ]
  },
  {
   "cell_type": "code",
   "execution_count": 32,
   "metadata": {},
   "outputs": [
    {
     "name": "stdout",
     "output_type": "stream",
     "text": [
      "x1: -3.0\n",
      "x2: -1.0\n"
     ]
    }
   ],
   "source": [
    "#8 решить квадратное уравнение\n",
    "\n",
    "a = float(input('Введите a'))\n",
    "b = float(input('Введите b'))\n",
    "c = float(input('Введите c'))\n",
    "\n",
    "d = b**2 - 4*a*c\n",
    "\n",
    "if d >= 1:\n",
    "    print(f\"x1: {(-b-d**1/2)/2*a}\\nx2: {(-b+d**1/2)/2*a}\")\n",
    "if d == 0:\n",
    "    print(f\"x1, x2: {(-b-d**1/2)/2*a}\")\n",
    "if d < 0:\n",
    "    print('Уравнение не имеет корней !')"
   ]
  },
  {
   "cell_type": "code",
   "execution_count": null,
   "metadata": {},
   "outputs": [],
   "source": [
    "import random \n",
    "\n",
    "array = []\n",
    "\n",
    "for i in range(100): \n",
    "    array = random.randint(0,100)\n",
    "\n",
    "Ar = []\n",
    "\n",
    "for i in array:\n",
    "    lambda x: Ar.append(x) if x / 2 == 0 and x / 3 == 0 "
   ]
  },
  {
   "cell_type": "code",
   "execution_count": 1,
   "metadata": {},
   "outputs": [],
   "source": [
    "arr=[1,5,7,8,12,36,79]"
   ]
  },
  {
   "cell_type": "code",
   "execution_count": 3,
   "metadata": {},
   "outputs": [],
   "source": [
    "def check(x):\n",
    "    if x%2==0:\n",
    "        return x"
   ]
  },
  {
   "cell_type": "markdown",
   "metadata": {},
   "source": [
    "map(check(x),arr)"
   ]
  },
  {
   "cell_type": "code",
   "execution_count": 7,
   "metadata": {},
   "outputs": [
    {
     "data": {
      "text/plain": [
       "[None, None, None, 8, 12, 36, None]"
      ]
     },
     "execution_count": 7,
     "metadata": {},
     "output_type": "execute_result"
    }
   ],
   "source": [
    "list(map(check,arr))"
   ]
  },
  {
   "cell_type": "code",
   "execution_count": null,
   "metadata": {},
   "outputs": [],
   "source": [
    "import numpy as np \n",
    "\n",
    "from numpy import random\n",
    "\n",
    "array = np.random.randint(0,100)\n",
    "\n",
    "f_array = []\n",
    "\n",
    "for n in array:\n",
    "    if n / 2 == 0 and n / 3 == 0:\n",
    "        f_array = True\n",
    "    else:\n",
    "        f_array = False\n",
    "\n",
    "array = \n",
    "\n"
   ]
  },
  {
   "cell_type": "code",
   "execution_count": null,
   "metadata": {},
   "outputs": [],
   "source": []
  },
  {
   "cell_type": "markdown",
   "metadata": {},
   "source": [
    "9. Вводится целое число. Выведите его на экран и допишите к нему слова «рубль», \n",
    "«рубля» или «рублей» в зависимости от значения. \n",
    "\n",
    "Алгоритм:\n",
    "- исключение: если число оканчивается на 11, 12, 13 или 14, добавляем слово \n",
    "«рублей»;\n",
    "- если число оканчивается на 1, добавляем слово «рубль»;\n",
    "- если число оканчивается на 2, 3 или 4, добавляем слово «рубля»;\n",
    "- если число оканчивается на цифры 5, 6, 7, 8, 9 или 0, добавляем слово «рублей»"
   ]
  },
  {
   "cell_type": "code",
   "execution_count": 47,
   "metadata": {},
   "outputs": [
    {
     "name": "stdout",
     "output_type": "stream",
     "text": [
      "125 рублей !\n"
     ]
    }
   ],
   "source": [
    "money = input('Введите целое число')\n",
    "\n",
    "money = ' '.join(money.split())\n",
    "\n",
    "if money[-2:] == 11 and money[-2:] == 12 and money[-2:] == 13 and money[-2:] == 14:\n",
    "    print(f\"{money} рублей !\")\n",
    "elif money[-1] == 1:\n",
    "    print(f\"{money} рубль !\")\n",
    "elif money[-1] == 2 and  money[-1] == 3 and  money[-1] == 4:\n",
    "    print(f\"{money} рубля !\")\n",
    "else:\n",
    "    print(f\"{money} рублей !\")"
   ]
  },
  {
   "cell_type": "markdown",
   "metadata": {},
   "source": [
    "10. Пользователь поочередно вводит координаты точки в декартовой системе \n",
    "координат. Определить, какой четверти принадлежит данная точка или на какой \n",
    "оси она находится. Расположение точки вывести на экран. Найти произведение \n",
    "номера четверти на расстояние от этой точки до начала координат и вывести его на \n",
    "экран. Если точка лежит на оси, считать, что номер четверти равен 0"
   ]
  },
  {
   "cell_type": "code",
   "execution_count": 49,
   "metadata": {},
   "outputs": [
    {
     "name": "stdout",
     "output_type": "stream",
     "text": [
      "Номер четверти: 1\n",
      "Координаты точки: (3.0,4.0)\n",
      "Произведение номера четверти на расстояние от этой точки до начала координат: 12.5\n"
     ]
    }
   ],
   "source": [
    "\n",
    "def quarter(x, y):\n",
    "    if x < 0 and y > 0:\n",
    "        return 2\n",
    "    elif x > 0 and y > 0:\n",
    "        return 1\n",
    "    elif x < 0 and y > 0:\n",
    "        return 3\n",
    "    else:\n",
    "        return 4\n",
    "\n",
    "x, y = float(input('Введите x')), float(input('Введите y'))\n",
    "\n",
    "if x == 0:\n",
    "    print(\"Номер четверти: 0\")\n",
    "elif x != 0:\n",
    "    print(f\"Номер четверти: {quarter(x,y)}\\nКоординаты точки: ({x},{y})\")\n",
    "\n",
    "    print(f\"Произведение номера четверти на расстояние от этой точки до начала координат: {quarter(x,y)*((x*x+y*y)**1/2)}\")\n",
    "\n"
   ]
  },
  {
   "cell_type": "markdown",
   "metadata": {},
   "source": [
    "11. Выведите значение заданного целого числа от 0 до 999 прописью. Например, «сто \n",
    "девяносто один» для числа 191, «одиннадцать» для числа 11"
   ]
  },
  {
   "cell_type": "code",
   "execution_count": 64,
   "metadata": {},
   "outputs": [
    {
     "name": "stdout",
     "output_type": "stream",
     "text": [
      "сто двадцать три\n"
     ]
    }
   ],
   "source": [
    "def f(s):\n",
    "    d=[]\n",
    "    if len(s) > 1:\n",
    "        if 9 < int(s[-2:]) < 20:\n",
    "            d.append(tsat[int(s[-2:])])\n",
    "        elif int(s[-2:]) > 19:\n",
    "            d.append(s1[int(s[-1])])\n",
    "            d.append(s2[int(s[-2])])\n",
    "    else:\n",
    "        if int(s[-1]) > 0:\n",
    "            d.append(s1[int(s[-1])])\n",
    "        else:\n",
    "            d.append('ноль')\n",
    "    if len(s) == 3:\n",
    "        d.append(s3[int(s[-3])])\n",
    "    print(' '.join(d[::-1]))\n",
    "    d.clear()\n",
    "\n",
    "s1 = {1:'один',\n",
    "      2:'два',\n",
    "      3:'три',\n",
    "      4:'четыре',\n",
    "      5:'пять',\n",
    "      6:'шест',\n",
    "      7:'семь',\n",
    "      8:'восемь',\n",
    "      9:'девять',\n",
    "      0:''}\n",
    " \n",
    "s2 = {2:'двадцать',\n",
    "      3:'тридцать',\n",
    "      4:'сорок',\n",
    "      5:'пятьдесят',\n",
    "      6:'шестьдесят',\n",
    "      7:'семьдесят',\n",
    "      8:'восемьдесят',\n",
    "      9:'девяносто'}\n",
    " \n",
    "s3 = {1:'сто',\n",
    "      2:'двести',\n",
    "      3:'триста',\n",
    "      4:'четыреста',\n",
    "      5:'пятьсот',\n",
    "      6:'шестьсот',\n",
    "      7:'семьсот',\n",
    "      8:'восемьсот',\n",
    "      9:'девятьсот'}\n",
    " \n",
    "tsat = {10:'десять',\n",
    "      11:'одиннадцать',\n",
    "      12:'двенадцать',\n",
    "      13:'тринадцать',\n",
    "      14:'четырнадцать',\n",
    "      15:'пятнадцать',\n",
    "      16:'шестнадцать',\n",
    "      17:'семнадцать',\n",
    "      18:'восемнадцать',\n",
    "      19:'девятнадцать'}\n",
    "\n",
    "s = input()\n",
    "\n",
    "f(s)"
   ]
  },
  {
   "cell_type": "markdown",
   "metadata": {},
   "source": [
    "12. Вычислите значение выражения, которое состоит из целых чисел и знаков «+» и \n",
    "«-». Выражение вводится как символьная строка.\n",
    "\n"
   ]
  },
  {
   "cell_type": "code",
   "execution_count": 103,
   "metadata": {},
   "outputs": [
    {
     "name": "stdout",
     "output_type": "stream",
     "text": [
      "143\n"
     ]
    }
   ],
   "source": [
    "stroka = input('Введите выражения, которое состоит из целых чисел и знаков «+» и «-»')\n",
    "print(eval(stroka))"
   ]
  },
  {
   "cell_type": "markdown",
   "metadata": {},
   "source": [
    "13. Пользователь поочередно вводит 2 строки. Определите, какая строка длиннее и на сколько символов, а какая строка стоит раньше в лексикографическом порядке. Собрать результирующую строку, которая бы содержала 1 и 2 строки, разделенные переносом строки."
   ]
  },
  {
   "cell_type": "code",
   "execution_count": 107,
   "metadata": {},
   "outputs": [
    {
     "name": "stdout",
     "output_type": "stream",
     "text": [
      "Первая строка больше !\n",
      "Первая строка раньше !\n",
      "aaaaaaa\n",
      "bb\n"
     ]
    }
   ],
   "source": [
    "#13\n",
    "stroka1 = input('Введите строку 1')\n",
    "stroka2 = input('Введите строку 2')\n",
    "\n",
    "if len(stroka1)>len(stroka2):\n",
    "    print(\"Первая строка больше !\")\n",
    "elif len(stroka1)==len(stroka2):\n",
    "    print(\"Строки равны !\")\n",
    "else:\n",
    "    print(\"Вторая строка больше !\")\n",
    "\n",
    "if stroka1<stroka2:\n",
    "    print(\"Первая строка раньше !\")\n",
    "else:\n",
    "    print(\"Вторая строка раньше !\")\n",
    "\n",
    "print(f\"{stroka1}\\n{stroka2}\")\n"
   ]
  },
  {
   "cell_type": "markdown",
   "metadata": {},
   "source": [
    "14. Реализовать калькулятор, который принимает от пользователя через пробел строку следующего вида: «a op b», где a и b – некоторые числа, а ‘op’ определяет оператор и может принимать значения $+,-,*,/,**,%$. В зависимости от оператора с помощью форматирования строк вывести результат в виде: «a + b = 3 + 2 = 5», где была получена строка «3 + 2». Для операций возведения в степень и деления по модулю использовать вместо знака оператора соответствующие выражения. Например, для строки «2 ** 3» должно быть выведено «a в степени b = 2 в степени 3 = 8»."
   ]
  },
  {
   "cell_type": "code",
   "execution_count": 111,
   "metadata": {},
   "outputs": [
    {
     "name": "stdout",
     "output_type": "stream",
     "text": [
      "21 * 3 = 63\n"
     ]
    }
   ],
   "source": [
    "expression = input(\"Введите выражение\").split(\" \")\n",
    "\n",
    "a = int(expression[0])\n",
    "b = int(expression[2])\n",
    "\n",
    "if expression[1] == '+':\n",
    "    print(f\"{a} + {b} = {a+b}\")\n",
    "elif expression[1] == '-':\n",
    "    print(f\"{a} - {b} = {a-b}\")\n",
    "elif expression[1] == '*':\n",
    "    print(f\"{a} * {b} = {a*b}\")\n",
    "elif expression[1] == '/':\n",
    "    print(f\"{a} / {b} = {a/b}\")\n",
    "elif expression[1] == '%':\n",
    "    print(f\"{a} % {b} = {a%b}\")\n",
    "elif expression[1] == '%':\n",
    "    print(f\"{a} ** {b} = {a**b}\")\n",
    "\n",
    "\n"
   ]
  },
  {
   "cell_type": "code",
   "execution_count": 125,
   "metadata": {},
   "outputs": [
    {
     "name": "stdout",
     "output_type": "stream",
     "text": [
      ",_     _     ,_     _     ,_     _     ,_     _     ,_     _     \n",
      "|\\_,-~/     |\\_,-~/     |\\_,-~/     |\\_,-~/     |\\_,-~/     \n",
      "/ _  _ |    ,--.     / _  _ |    ,--.     / _  _ |    ,--.     / _  _ |    ,--.     / _  _ |    ,--.     \n",
      "(  @  @ ]   / ,-     (  @  @ ]   / ,-     (  @  @ ]   / ,-     (  @  @ ]   / ,-     (  @  @ ]   / ,-     \n",
      " \\  _T_/-._( (      \\  _T_/-._( (      \\  _T_/-._( (      \\  _T_/-._( (      \\  _T_/-._( (     \n",
      " /         . '      /         . '      /         . '      /         . '      /         . '     \n",
      "|         _  \\ |     |         _  \\ |     |         _  \\ |     |         _  \\ |     |         _  \\ |     \n",
      " \\ \\ ,  /      |      \\ \\ ,  /      |      \\ \\ ,  /      |      \\ \\ ,  /      |      \\ \\ ,  /      |     \n",
      "  || |-_\\__   /       || |-_\\__   /       || |-_\\__   /       || |-_\\__   /       || |-_\\__   /     \n",
      " ((_/`(____,-      ((_/`(____,-      ((_/`(____,-      ((_/`(____,-      ((_/`(____,-     \n"
     ]
    }
   ],
   "source": [
    "cat=[',_     _     ','|\\\\_,-~/     ','/ _  _ |    ,--.     ','(  @  @ ]   / ,-     ',' \\  _T_/-._( (     ',' /         . \\'     ','|         _  \\ |     ',' \\ \\ ,  /      |     ','  || |-_\\__   /     ',' ((_/`(____,-     ']\n",
    "n=int(input())\n",
    "for i in range(len(cat)):\n",
    "    print(cat[i]*n)\n",
    "    \n",
    "         \n",
    "\n"
   ]
  },
  {
   "cell_type": "markdown",
   "metadata": {},
   "source": [
    "17. Из множества целых чисел от 1 до N выделить множество N2 числа, кратные 2, множество N3 – кратные 3, множество N 6 – кратные 6 (т.е. кратные и 2 и 3), множество N 23 – кратные либо 2, либо 3."
   ]
  },
  {
   "cell_type": "code",
   "execution_count": 136,
   "metadata": {},
   "outputs": [
    {
     "name": "stdout",
     "output_type": "stream",
     "text": [
      "Кратные 2: 0, 2, 4, 6, 8, 10, 12, 14, 16, 18, 20, 22, 24, 26, 28, 30, 32, 34, 36, 38, 40, 42, 44, 46, 48, 50, 52, 54, 56, 58, 60, 62, 64, 66, 68, 70, 72, 74, 76, 78, 80, 82, 84, 86, 88, 90, 92, 94, 96, 98, 100, 102, 104, 106, 108, 110, .\n",
      "Кратные 3: 0, 3, 6, 9, 12, 15, 18, 21, 24, 27, 30, 33, 36, 39, 42, 45, 48, 51, 54, 57, 60, 63, 66, 69, 72, 75, 78, 81, 84, 87, 90, 93, 96, 99, 102, 105, 108, 111, .\n",
      "Кратные 6: 0, 6, 12, 18, 24, 30, 36, 42, 48, 54, 60, 66, 72, 78, 84, 90, 96, 102, 108, .\n",
      "Кратные 23: 0, 2, 3, 4, 6, 8, 9, 10, 12, 14, 15, 16, 18, 20, 21, 22, 24, 26, 27, 28, 30, 32, 33, 34, 36, 38, 39, 40, 42, 44, 45, 46, 48, 50, 51, 52, 54, 56, 57, 58, 60, 62, 63, 64, 66, 68, 69, 70, 72, 74, 75, 76, 78, 80, 81, 82, 84, 86, 87, 88, 90, 92, 93, 94, 96, 98, 99, 100, 102, 104, 105, 106, 108, 110, 111, .\n"
     ]
    }
   ],
   "source": [
    "#17\n",
    "n = int(input(\"Введите диапапзон\"))\n",
    "N2 = ''\n",
    "N3 = ''\n",
    "N6 = ''\n",
    "N23 = ''\n",
    "\n",
    "for i in range(n):\n",
    "    if i%2 == 0:\n",
    "        N2 += str(i) + ', ' \n",
    "    if i%3 == 0:\n",
    "        N3 += str(i) + ', ' \n",
    "    if i%6 == 0:\n",
    "        N6 += str(i) + ', ' \n",
    "    if i%2 == 0 or i%3 == 0:\n",
    "        N23 += str(i) + ', ' \n",
    "\n",
    "\n",
    "if len(N2):\n",
    "    print(f\"Кратные 2: {N2}\")\n",
    "if len(N3):\n",
    "    print(f\"Кратные 3: {N3}\")\n",
    "if len(N6):\n",
    "    print(f\"Кратные 6: {N6}\")\n",
    "if len(N23):\n",
    "    print(f\"Кратные 23: {N23}\")\n",
    "\n"
   ]
  },
  {
   "cell_type": "markdown",
   "metadata": {},
   "source": [
    "18. Даны m (m>1) слов. Найти общее количество заданной буквы в этих словах."
   ]
  },
  {
   "cell_type": "code",
   "execution_count": 137,
   "metadata": {},
   "outputs": [
    {
     "name": "stdout",
     "output_type": "stream",
     "text": [
      "Бува 'л' встречается 5 раз\n"
     ]
    }
   ],
   "source": [
    "#18\n",
    "slova = input()\n",
    "bukva = input('Введите букву')\n",
    "counter = 0\n",
    "\n",
    "for i in slova:\n",
    "    if i == bukva:\n",
    "        counter+=1\n",
    "\n",
    "print(f\"Бува '{bukva}' встречается {counter} раз\")\n",
    "\n",
    "\n",
    "\n"
   ]
  },
  {
   "cell_type": "markdown",
   "metadata": {},
   "source": [
    "19. Даны m (m>1) слов. В каком из них доля (в %) заданной буквы больше."
   ]
  },
  {
   "cell_type": "code",
   "execution_count": 160,
   "metadata": {},
   "outputs": [
    {
     "name": "stdout",
     "output_type": "stream",
     "text": [
      "В слове под номером 5 доля буквы t составляет: 100.0%\n"
     ]
    }
   ],
   "source": [
    "#19\n",
    "\n",
    "#gty sde xche tttt sda xn\n",
    "\n",
    "m=input().split(\" \")\n",
    "zadanna_bukva = input()\n",
    "\n",
    "persent = -1\n",
    "indexSlova = -1\n",
    "index_porydka = 0\n",
    "\n",
    "for i in m:\n",
    "    index_porydka += 1\n",
    "    if i.count(zadanna_bukva) > 0:\n",
    "        if  i.count(zadanna_bukva)/len(i) * 100 > persent:\n",
    "            indexSlova = index_porydka\n",
    "            persent = i.count(zadanna_bukva)/len(i) * 100 \n",
    "\n",
    "\n",
    "print(f\"В слове под номером {indexSlova+1} доля буквы {zadanna_bukva} составляет: {persent}%\")"
   ]
  },
  {
   "cell_type": "markdown",
   "metadata": {},
   "source": [
    "13. Пользователь поочередно вводит 2 строки. Определите, какая строка длиннее и на сколько символов, а какая строка стоит раньше в лексикографическом порядке. Собрать результирующую строку, которая бы содержала 1 и 2 строки, разделенные переносом строки.\n",
    "14. Реализовать калькулятор, который принимает от пользователя через пробел строку следующего вида: «a op b», где a и b – некоторые числа, а ‘op’ определяет оператор и может принимать значения $«+,-,*,/,**,%»$. В зависимости от оператора с помощью форматирования строк вывести результат в виде: «a + b = 3 + 2 = 5», где была получена строка «3 + 2». Для операций возведения в степень и деления по модулю использовать вместо знака оператора соответствующие выражения. Например, для строки «2 ** 3» должно быть выведено «a в степени b = 2 в степени 3 = 8».\n",
    "15. Напишите программу, которая в зависимости от введенного пользователем числа N, осуществляет вывод N кошек на экран. Пусть 1<= N <=10. Примечание: кошки при N=3 выглядят примерно так\n",
    "```\n",
    " /\\__/\\ /\\__/\\ /\\__/\\\n",
    " /@ @\\ /@ @\\ /@ @\\\n",
    " (~~0~~) (~~0~~) (~~0~~)\n",
    "```\n",
    "16. Имеются два n – мерных вектора x и y, которые задают координаты n точек на плоскости (случайные целые числа). Найти наиболее близкие друг другу точки.\n",
    "17. Из множества целых чисел от 1 до N выделить множество N2 числа, кратные 2, множество N3 – кратные 3, множество N 6 – кратные 6 (т.е. кратные и 2 и 3), множество N 23 – кратные либо 2, либо 3.\n",
    "18. Даны m (m>1) слов. Найти общее количество заданной буквы в этих словах.\n",
    "19. Даны m (m>1) слов. В каком из них доля (в %) заданной буквы больше."
   ]
  }
 ],
 "metadata": {
  "kernelspec": {
   "display_name": "Python 3",
   "language": "python",
   "name": "python3"
  },
  "language_info": {
   "codemirror_mode": {
    "name": "ipython",
    "version": 3
   },
   "file_extension": ".py",
   "mimetype": "text/x-python",
   "name": "python",
   "nbconvert_exporter": "python",
   "pygments_lexer": "ipython3",
   "version": "3.11.4"
  },
  "orig_nbformat": 4
 },
 "nbformat": 4,
 "nbformat_minor": 2
}
